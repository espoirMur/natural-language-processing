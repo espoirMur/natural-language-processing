{
 "cells": [
  {
   "cell_type": "code",
   "execution_count": 1,
   "metadata": {},
   "outputs": [
    {
     "name": "stderr",
     "output_type": "stream",
     "text": [
      "/Users/es.py/.pyenv/versions/3.6.5/lib/python3.6/site-packages/pandas/compat/__init__.py:117: UserWarning: Could not import the lzma module. Your installed Python is incomplete. Attempting to use lzma compression will result in a RuntimeError.\n",
      "  warnings.warn(msg)\n"
     ]
    }
   ],
   "source": [
    "import pandas as pd"
   ]
  },
  {
   "cell_type": "code",
   "execution_count": 2,
   "metadata": {},
   "outputs": [],
   "source": [
    "content_html = '''\n",
    "<table class=\"orderSumTable\"><tbody><tr><td style=\"width: 180px;\"><h1><span id=\"ctl00_MainContent_OrderSummaryModule1_summaryLbl\">Orderoverzicht</span></h1></td></tr><tr><td class=\"rowSpacer3\" colspan=\"2\"></td></tr><tr><td><b><span id=\"ctl00_MainContent_OrderSummaryModule1_lFLowerValue\">Bloemenwaarde:</span></b></td><td class=\"Col2\"><span id=\"ctl00_MainContent_OrderSummaryModule1_lFLowerValueValue\">21,99 EUR</span></td></tr><tr><td><b><span id=\"ctl00_MainContent_OrderSummaryModule1_lAddons\">Addons:</span></b></td><td class=\"Col2\"><span id=\"ctl00_MainContent_OrderSummaryModule1_lAddonsValue\">9,45 EUR</span></td></tr><tr id=\"ctl00_MainContent_OrderSummaryModule1_deliveryTr\"><td><b><span id=\"ctl00_MainContent_OrderSummaryModule1_lDelFee\">Leverkosten:</span></b></td><td class=\"Col2\"><span id=\"ctl00_MainContent_OrderSummaryModule1_lDelFeeValue\">4,60 EUR</span></td></tr><tr><td><hr/></td></tr><tr><td><h1><span id=\"ctl00_MainContent_OrderSummaryModule1_lSum\">Totaal:</span></h1></td><td class=\"Col2\"><span id=\"ctl00_MainContent_OrderSummaryModule1_lSumValue\">36,04 EUR</span></td></tr></tbody></table>\n",
    "'''"
   ]
  },
  {
   "cell_type": "code",
   "execution_count": 4,
   "metadata": {},
   "outputs": [
    {
     "data": {
      "text/html": [
       "<div>\n",
       "<style scoped>\n",
       "    .dataframe tbody tr th:only-of-type {\n",
       "        vertical-align: middle;\n",
       "    }\n",
       "\n",
       "    .dataframe tbody tr th {\n",
       "        vertical-align: top;\n",
       "    }\n",
       "\n",
       "    .dataframe thead th {\n",
       "        text-align: right;\n",
       "    }\n",
       "</style>\n",
       "<table border=\"1\" class=\"dataframe\">\n",
       "  <thead>\n",
       "    <tr style=\"text-align: right;\">\n",
       "      <th></th>\n",
       "      <th>0</th>\n",
       "      <th>1</th>\n",
       "    </tr>\n",
       "  </thead>\n",
       "  <tbody>\n",
       "    <tr>\n",
       "      <th>0</th>\n",
       "      <td>Orderoverzicht</td>\n",
       "      <td>NaN</td>\n",
       "    </tr>\n",
       "    <tr>\n",
       "      <th>1</th>\n",
       "      <td>NaN</td>\n",
       "      <td>NaN</td>\n",
       "    </tr>\n",
       "    <tr>\n",
       "      <th>2</th>\n",
       "      <td>Bloemenwaarde:</td>\n",
       "      <td>21,99 EUR</td>\n",
       "    </tr>\n",
       "    <tr>\n",
       "      <th>3</th>\n",
       "      <td>Addons:</td>\n",
       "      <td>9,45 EUR</td>\n",
       "    </tr>\n",
       "    <tr>\n",
       "      <th>4</th>\n",
       "      <td>Leverkosten:</td>\n",
       "      <td>4,60 EUR</td>\n",
       "    </tr>\n",
       "    <tr>\n",
       "      <th>5</th>\n",
       "      <td>NaN</td>\n",
       "      <td>NaN</td>\n",
       "    </tr>\n",
       "    <tr>\n",
       "      <th>6</th>\n",
       "      <td>Totaal:</td>\n",
       "      <td>36,04 EUR</td>\n",
       "    </tr>\n",
       "  </tbody>\n",
       "</table>\n",
       "</div>"
      ],
      "text/plain": [
       "                0          1\n",
       "0  Orderoverzicht        NaN\n",
       "1             NaN        NaN\n",
       "2  Bloemenwaarde:  21,99 EUR\n",
       "3         Addons:   9,45 EUR\n",
       "4    Leverkosten:   4,60 EUR\n",
       "5             NaN        NaN\n",
       "6         Totaal:  36,04 EUR"
      ]
     },
     "execution_count": 4,
     "metadata": {},
     "output_type": "execute_result"
    }
   ],
   "source": [
    "pd.read_html(content_html)[0]"
   ]
  },
  {
   "cell_type": "code",
   "execution_count": 3,
   "metadata": {},
   "outputs": [],
   "source": [
    "data = pd.read_clipboard()"
   ]
  },
  {
   "cell_type": "code",
   "execution_count": 4,
   "metadata": {},
   "outputs": [
    {
     "data": {
      "text/html": [
       "<div>\n",
       "<style scoped>\n",
       "    .dataframe tbody tr th:only-of-type {\n",
       "        vertical-align: middle;\n",
       "    }\n",
       "\n",
       "    .dataframe tbody tr th {\n",
       "        vertical-align: top;\n",
       "    }\n",
       "\n",
       "    .dataframe thead th {\n",
       "        text-align: right;\n",
       "    }\n",
       "</style>\n",
       "<table border=\"1\" class=\"dataframe\">\n",
       "  <thead>\n",
       "    <tr style=\"text-align: right;\">\n",
       "      <th></th>\n",
       "      <th>1</th>\n",
       "      <th>2grams</th>\n",
       "      <th>3grams</th>\n",
       "      <th>4-grams</th>\n",
       "      <th>5-grams</th>\n",
       "      <th>6-grams</th>\n",
       "      <th>7-grams</th>\n",
       "      <th>8-grams</th>\n",
       "      <th>9-grams</th>\n",
       "    </tr>\n",
       "  </thead>\n",
       "  <tbody>\n",
       "    <tr>\n",
       "      <th>0</th>\n",
       "      <td>e</td>\n",
       "      <td>th</td>\n",
       "      <td>the</td>\n",
       "      <td>tion</td>\n",
       "      <td>ation</td>\n",
       "      <td>ations</td>\n",
       "      <td>present</td>\n",
       "      <td>differen</td>\n",
       "      <td>different</td>\n",
       "    </tr>\n",
       "    <tr>\n",
       "      <th>1</th>\n",
       "      <td>t</td>\n",
       "      <td>he</td>\n",
       "      <td>and</td>\n",
       "      <td>atio</td>\n",
       "      <td>tions</td>\n",
       "      <td>ration</td>\n",
       "      <td>ational</td>\n",
       "      <td>national</td>\n",
       "      <td>governmen</td>\n",
       "    </tr>\n",
       "    <tr>\n",
       "      <th>2</th>\n",
       "      <td>a</td>\n",
       "      <td>in</td>\n",
       "      <td>ing</td>\n",
       "      <td>that</td>\n",
       "      <td>which</td>\n",
       "      <td>tional</td>\n",
       "      <td>through</td>\n",
       "      <td>consider</td>\n",
       "      <td>overnment</td>\n",
       "    </tr>\n",
       "    <tr>\n",
       "      <th>3</th>\n",
       "      <td>o</td>\n",
       "      <td>er</td>\n",
       "      <td>ion</td>\n",
       "      <td>ther</td>\n",
       "      <td>ction</td>\n",
       "      <td>nation</td>\n",
       "      <td>between</td>\n",
       "      <td>position</td>\n",
       "      <td>formation</td>\n",
       "    </tr>\n",
       "    <tr>\n",
       "      <th>4</th>\n",
       "      <td>i</td>\n",
       "      <td>an</td>\n",
       "      <td>tio</td>\n",
       "      <td>with</td>\n",
       "      <td>other</td>\n",
       "      <td>ection</td>\n",
       "      <td>ication</td>\n",
       "      <td>ifferent</td>\n",
       "      <td>character</td>\n",
       "    </tr>\n",
       "  </tbody>\n",
       "</table>\n",
       "</div>"
      ],
      "text/plain": [
       "   1 2grams 3grams 4-grams 5-grams 6-grams  7-grams   8-grams    9-grams\n",
       "0  e     th    the    tion   ation  ations  present  differen  different\n",
       "1  t     he    and    atio   tions  ration  ational  national  governmen\n",
       "2  a     in    ing    that   which  tional  through  consider  overnment\n",
       "3  o     er    ion    ther   ction  nation  between  position  formation\n",
       "4  i     an    tio    with   other  ection  ication  ifferent  character"
      ]
     },
     "execution_count": 4,
     "metadata": {},
     "output_type": "execute_result"
    }
   ],
   "source": [
    "data.head()"
   ]
  },
  {
   "cell_type": "code",
   "execution_count": 8,
   "metadata": {},
   "outputs": [],
   "source": [
    "for column in data.columns:\n",
    "    data[column].to_csv('/Users/es.py/Documents/touch-typing-ngrams/{}.csv'.format(column))"
   ]
  },
  {
   "cell_type": "code",
   "execution_count": 13,
   "metadata": {},
   "outputs": [
    {
     "ename": "TypeError",
     "evalue": "parser_f() got an unexpected keyword argument 'columns'",
     "output_type": "error",
     "traceback": [
      "\u001b[0;31m---------------------------------------------------------------------------\u001b[0m",
      "\u001b[0;31mTypeError\u001b[0m                                 Traceback (most recent call last)",
      "\u001b[0;32m<ipython-input-13-444b3276a017>\u001b[0m in \u001b[0;36m<module>\u001b[0;34m\u001b[0m\n\u001b[0;32m----> 1\u001b[0;31m \u001b[0mbnr_user\u001b[0m \u001b[0;34m=\u001b[0m \u001b[0mpd\u001b[0m\u001b[0;34m.\u001b[0m\u001b[0mread_clipboard\u001b[0m\u001b[0;34m(\u001b[0m\u001b[0mcolumns\u001b[0m\u001b[0;34m=\u001b[0m\u001b[0;34m[\u001b[0m\u001b[0;34m'colums_name'\u001b[0m\u001b[0;34m,\u001b[0m \u001b[0;34m'id'\u001b[0m\u001b[0;34m,\u001b[0m \u001b[0;34m'serial'\u001b[0m\u001b[0;34m]\u001b[0m\u001b[0;34m)\u001b[0m\u001b[0;34m\u001b[0m\u001b[0m\n\u001b[0m",
      "\u001b[0;32m~/.pyenv/versions/3.6.5/lib/python3.6/site-packages/pandas/io/clipboards.py\u001b[0m in \u001b[0;36mread_clipboard\u001b[0;34m(sep, **kwargs)\u001b[0m\n\u001b[1;32m     74\u001b[0m         )\n\u001b[1;32m     75\u001b[0m \u001b[0;34m\u001b[0m\u001b[0m\n\u001b[0;32m---> 76\u001b[0;31m     \u001b[0;32mreturn\u001b[0m \u001b[0mread_csv\u001b[0m\u001b[0;34m(\u001b[0m\u001b[0mStringIO\u001b[0m\u001b[0;34m(\u001b[0m\u001b[0mtext\u001b[0m\u001b[0;34m)\u001b[0m\u001b[0;34m,\u001b[0m \u001b[0msep\u001b[0m\u001b[0;34m=\u001b[0m\u001b[0msep\u001b[0m\u001b[0;34m,\u001b[0m \u001b[0;34m**\u001b[0m\u001b[0mkwargs\u001b[0m\u001b[0;34m)\u001b[0m\u001b[0;34m\u001b[0m\u001b[0m\n\u001b[0m\u001b[1;32m     77\u001b[0m \u001b[0;34m\u001b[0m\u001b[0m\n\u001b[1;32m     78\u001b[0m \u001b[0;34m\u001b[0m\u001b[0m\n",
      "\u001b[0;31mTypeError\u001b[0m: parser_f() got an unexpected keyword argument 'columns'"
     ]
    }
   ],
   "source": [
    "bnr_user = pd.read_clipboard(columns=['colums_name', 'id', 'serial'])"
   ]
  },
  {
   "cell_type": "code",
   "execution_count": 14,
   "metadata": {},
   "outputs": [],
   "source": [
    "bnr_user.columns = ['colums_name', 'id', 'serial']"
   ]
  },
  {
   "cell_type": "code",
   "execution_count": 29,
   "metadata": {},
   "outputs": [],
   "source": [
    "bnr_user.to_csv('/Users/es.py/Documents/BNR-Exuus/user_columns.csv')"
   ]
  },
  {
   "cell_type": "code",
   "execution_count": 30,
   "metadata": {},
   "outputs": [],
   "source": [
    "endpoints = pd.read_csv('/Users/es.py/Documents/api_endpoints.csv', sep='|')"
   ]
  },
  {
   "cell_type": "code",
   "execution_count": 31,
   "metadata": {},
   "outputs": [],
   "source": [
    "endpoints.Endpoint = endpoints.Endpoint.replace(\"'\", \"\")"
   ]
  },
  {
   "cell_type": "code",
   "execution_count": 32,
   "metadata": {},
   "outputs": [],
   "source": [
    "endpoints = endpoints[[\"Endpoint\", \"Method\", \"Description\"]]"
   ]
  },
  {
   "cell_type": "code",
   "execution_count": 34,
   "metadata": {},
   "outputs": [],
   "source": [
    "endpoints.to_clipboard()"
   ]
  },
  {
   "cell_type": "code",
   "execution_count": null,
   "metadata": {},
   "outputs": [],
   "source": []
  }
 ],
 "metadata": {
  "kernelspec": {
   "display_name": "deep-learning-venv",
   "language": "python",
   "name": "deep-learning-venv"
  },
  "language_info": {
   "codemirror_mode": {
    "name": "ipython",
    "version": 3
   },
   "file_extension": ".py",
   "mimetype": "text/x-python",
   "name": "python",
   "nbconvert_exporter": "python",
   "pygments_lexer": "ipython3",
   "version": "3.6.5"
  }
 },
 "nbformat": 4,
 "nbformat_minor": 4
}
