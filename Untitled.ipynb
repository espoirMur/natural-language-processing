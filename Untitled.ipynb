{
 "cells": [
  {
   "cell_type": "code",
   "execution_count": 1,
   "metadata": {},
   "outputs": [
    {
     "name": "stderr",
     "output_type": "stream",
     "text": [
      "/Users/es.py/.pyenv/versions/3.6.5/lib/python3.6/site-packages/pandas/compat/__init__.py:117: UserWarning: Could not import the lzma module. Your installed Python is incomplete. Attempting to use lzma compression will result in a RuntimeError.\n",
      "  warnings.warn(msg)\n"
     ]
    }
   ],
   "source": [
    "import pandas as pd"
   ]
  },
  {
   "cell_type": "code",
   "execution_count": 2,
   "metadata": {},
   "outputs": [],
   "source": [
    "content_html = '''\n",
    "<table class=\"orderSumTable\"><tbody><tr><td style=\"width: 180px;\"><h1><span id=\"ctl00_MainContent_OrderSummaryModule1_summaryLbl\">Orderoverzicht</span></h1></td></tr><tr><td class=\"rowSpacer3\" colspan=\"2\"></td></tr><tr><td><b><span id=\"ctl00_MainContent_OrderSummaryModule1_lFLowerValue\">Bloemenwaarde:</span></b></td><td class=\"Col2\"><span id=\"ctl00_MainContent_OrderSummaryModule1_lFLowerValueValue\">21,99 EUR</span></td></tr><tr><td><b><span id=\"ctl00_MainContent_OrderSummaryModule1_lAddons\">Addons:</span></b></td><td class=\"Col2\"><span id=\"ctl00_MainContent_OrderSummaryModule1_lAddonsValue\">9,45 EUR</span></td></tr><tr id=\"ctl00_MainContent_OrderSummaryModule1_deliveryTr\"><td><b><span id=\"ctl00_MainContent_OrderSummaryModule1_lDelFee\">Leverkosten:</span></b></td><td class=\"Col2\"><span id=\"ctl00_MainContent_OrderSummaryModule1_lDelFeeValue\">4,60 EUR</span></td></tr><tr><td><hr/></td></tr><tr><td><h1><span id=\"ctl00_MainContent_OrderSummaryModule1_lSum\">Totaal:</span></h1></td><td class=\"Col2\"><span id=\"ctl00_MainContent_OrderSummaryModule1_lSumValue\">36,04 EUR</span></td></tr></tbody></table>\n",
    "'''"
   ]
  },
  {
   "cell_type": "code",
   "execution_count": 4,
   "metadata": {},
   "outputs": [
    {
     "data": {
      "text/html": [
       "<div>\n",
       "<style scoped>\n",
       "    .dataframe tbody tr th:only-of-type {\n",
       "        vertical-align: middle;\n",
       "    }\n",
       "\n",
       "    .dataframe tbody tr th {\n",
       "        vertical-align: top;\n",
       "    }\n",
       "\n",
       "    .dataframe thead th {\n",
       "        text-align: right;\n",
       "    }\n",
       "</style>\n",
       "<table border=\"1\" class=\"dataframe\">\n",
       "  <thead>\n",
       "    <tr style=\"text-align: right;\">\n",
       "      <th></th>\n",
       "      <th>0</th>\n",
       "      <th>1</th>\n",
       "    </tr>\n",
       "  </thead>\n",
       "  <tbody>\n",
       "    <tr>\n",
       "      <th>0</th>\n",
       "      <td>Orderoverzicht</td>\n",
       "      <td>NaN</td>\n",
       "    </tr>\n",
       "    <tr>\n",
       "      <th>1</th>\n",
       "      <td>NaN</td>\n",
       "      <td>NaN</td>\n",
       "    </tr>\n",
       "    <tr>\n",
       "      <th>2</th>\n",
       "      <td>Bloemenwaarde:</td>\n",
       "      <td>21,99 EUR</td>\n",
       "    </tr>\n",
       "    <tr>\n",
       "      <th>3</th>\n",
       "      <td>Addons:</td>\n",
       "      <td>9,45 EUR</td>\n",
       "    </tr>\n",
       "    <tr>\n",
       "      <th>4</th>\n",
       "      <td>Leverkosten:</td>\n",
       "      <td>4,60 EUR</td>\n",
       "    </tr>\n",
       "    <tr>\n",
       "      <th>5</th>\n",
       "      <td>NaN</td>\n",
       "      <td>NaN</td>\n",
       "    </tr>\n",
       "    <tr>\n",
       "      <th>6</th>\n",
       "      <td>Totaal:</td>\n",
       "      <td>36,04 EUR</td>\n",
       "    </tr>\n",
       "  </tbody>\n",
       "</table>\n",
       "</div>"
      ],
      "text/plain": [
       "                0          1\n",
       "0  Orderoverzicht        NaN\n",
       "1             NaN        NaN\n",
       "2  Bloemenwaarde:  21,99 EUR\n",
       "3         Addons:   9,45 EUR\n",
       "4    Leverkosten:   4,60 EUR\n",
       "5             NaN        NaN\n",
       "6         Totaal:  36,04 EUR"
      ]
     },
     "execution_count": 4,
     "metadata": {},
     "output_type": "execute_result"
    }
   ],
   "source": [
    "pd.read_html(content_html)[0]"
   ]
  },
  {
   "cell_type": "code",
   "execution_count": null,
   "metadata": {},
   "outputs": [],
   "source": []
  }
 ],
 "metadata": {
  "kernelspec": {
   "display_name": "deep-learning-venv",
   "language": "python",
   "name": "deep-learning-venv"
  },
  "language_info": {
   "codemirror_mode": {
    "name": "ipython",
    "version": 3
   },
   "file_extension": ".py",
   "mimetype": "text/x-python",
   "name": "python",
   "nbconvert_exporter": "python",
   "pygments_lexer": "ipython3",
   "version": "3.6.5"
  }
 },
 "nbformat": 4,
 "nbformat_minor": 4
}
