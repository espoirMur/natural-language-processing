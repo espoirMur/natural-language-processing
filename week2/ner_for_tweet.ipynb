{
 "cells": [
  {
   "cell_type": "markdown",
   "metadata": {
    "collapsed": true
   },
   "source": [
    "# Recognize named entities on Twitter with LSTMs\n",
    "\n",
    "In this assignment, you will use a recurrent neural network to solve Named Entity Recognition (NER) problem. NER is a common task in natural language processing systems. It serves for extraction such entities from the text as persons, organizations, locations, etc. In this task you will experiment to recognize named entities from Twitter.\n",
    "\n",
    "For example, we want to extract persons' and organizations' names from the text. Than for the input text:\n",
    "\n",
    "    Ian Goodfellow works for Google Brain\n",
    "\n",
    "a NER model needs to provide the following sequence of tags:\n",
    "\n",
    "    B-PER I-PER    O     O   B-ORG  I-ORG\n",
    "\n",
    "Where *B-* and *I-* prefixes stand for the beginning and inside of the entity, while *O* stands for out of tag or no tag. Markup with the prefix scheme is called *BIO markup*. This markup is introduced for distinguishing of consequent entities with similar types.\n",
    "\n",
    "A solution of the task will be based on neural networks, particularly, on Bi-Directional Long Short-Term Memory Networks (Bi-LSTMs).\n",
    "\n",
    "### Libraries\n",
    "\n",
    "For this task you will need the following libraries:\n",
    " - [Tensorflow](https://www.tensorflow.org) — an open-source software library for Machine Intelligence.\n",
    " \n",
    "In this assignment, we use Tensorflow 1.15.0. You can install it with pip:\n",
    "\n",
    "    !pip install tensorflow==1.15.0\n",
    "     \n",
    " - [Numpy](http://www.numpy.org) — a package for scientific computing.\n",
    " \n",
    "If you have never worked with Tensorflow, you would probably need to read some tutorials during your work on this assignment, e.g. [this one](https://www.tensorflow.org/tutorials/recurrent) could be a good starting point. "
   ]
  },
  {
   "cell_type": "markdown",
   "metadata": {},
   "source": [
    "### Data\n",
    "\n",
    "The following cell will download all data required for this assignment into the folder `week2/data`."
   ]
  },
  {
   "cell_type": "code",
   "execution_count": 1,
   "metadata": {},
   "outputs": [
    {
     "name": "stdout",
     "output_type": "stream",
     "text": [
      "File data/train.txt is already downloaded.\n",
      "File data/validation.txt is already downloaded.\n",
      "File data/test.txt is already downloaded.\n"
     ]
    }
   ],
   "source": [
    "try:\n",
    "    import google.colab\n",
    "    IN_COLAB = True\n",
    "except:\n",
    "    IN_COLAB = False\n",
    "\n",
    "if IN_COLAB:\n",
    "    ! wget https://raw.githubusercontent.com/hse-aml/natural-language-processing/master/setup_google_colab.py -O setup_google_colab.py\n",
    "    import setup_google_colab\n",
    "    setup_google_colab.setup_week2()\n",
    "\n",
    "import sys\n",
    "sys.path.append(\"..\")\n",
    "from common.download_utils import download_week2_resources\n",
    "\n",
    "download_week2_resources()"
   ]
  },
  {
   "cell_type": "markdown",
   "metadata": {},
   "source": [
    "### Load the Twitter Named Entity Recognition corpus\n",
    "\n",
    "We will work with a corpus, which contains tweets with NE tags. Every line of a file contains a pair of a token (word/punctuation symbol) and a tag, separated by a whitespace. Different tweets are separated by an empty line.\n",
    "\n",
    "The function *read_data* reads a corpus from the *file_path* and returns two lists: one with tokens and one with the corresponding tags. You need to complete this function by adding a code, which will replace a user's nickname to `<USR>` token and any URL to `<URL>` token. You could think that a URL and a nickname are just strings which start with *http://* or *https://* in case of URLs and a *@* symbol for nicknames."
   ]
  },
  {
   "cell_type": "code",
   "execution_count": 2,
   "metadata": {},
   "outputs": [],
   "source": [
    "import re\n",
    "URL_REGEX = \"(https?|ftp|file):\\/\\/[\\-A-Za-z0-9+&@#\\/%?=~_|!:,.;]*[\\-A-Za-z0-9+&@#\\/%=~_|]\"\n",
    "USER_REGEX = '@([A-Za-z0-9_]+)'"
   ]
  },
  {
   "cell_type": "code",
   "execution_count": 3,
   "metadata": {},
   "outputs": [],
   "source": [
    "def replace_urls(token):\n",
    "    return re. sub(URL_REGEX, '<URL>', token)\n",
    "\n",
    "def replace_username(token):\n",
    "    return re.sub(USER_REGEX, '<USR>', token)"
   ]
  },
  {
   "cell_type": "code",
   "execution_count": 4,
   "metadata": {},
   "outputs": [],
   "source": [
    "assert replace_urls('http://t.co/eQmogqqABK this is a tweet with url') == '<URL> this is a tweet with url'"
   ]
  },
  {
   "cell_type": "code",
   "execution_count": 5,
   "metadata": {},
   "outputs": [],
   "source": [
    "assert replace_username('this is a tweet from a user @espoir_mur') == 'this is a tweet from a user <USR>'"
   ]
  },
  {
   "cell_type": "code",
   "execution_count": 6,
   "metadata": {},
   "outputs": [],
   "source": [
    "def read_data(file_path):\n",
    "    tokens = []\n",
    "    tags = []\n",
    "    \n",
    "    tweet_tokens = []\n",
    "    tweet_tags = []\n",
    "    for line in open(file_path, encoding='utf-8'):\n",
    "        line = line.strip()\n",
    "        if not line:\n",
    "            if tweet_tokens:\n",
    "                tokens.append(tweet_tokens)\n",
    "                tags.append(tweet_tags)\n",
    "            tweet_tokens = []\n",
    "            tweet_tags = []\n",
    "        else:\n",
    "            token, tag = line.split()\n",
    "            token = replace_urls(token)\n",
    "            token = replace_username(token)\n",
    "            tweet_tokens.append(token)\n",
    "            tweet_tags.append(tag)\n",
    "    return tokens, tags"
   ]
  },
  {
   "cell_type": "markdown",
   "metadata": {},
   "source": [
    "And now we can load three separate parts of the dataset:\n",
    " - *train* data for training the model;\n",
    " - *validation* data for evaluation and hyperparameters tuning;\n",
    " - *test* data for final evaluation of the model."
   ]
  },
  {
   "cell_type": "code",
   "execution_count": 7,
   "metadata": {},
   "outputs": [],
   "source": [
    "train_tokens, train_tags = read_data('data/train.txt')\n",
    "validation_tokens, validation_tags = read_data('data/validation.txt')\n",
    "test_tokens, test_tags = read_data('data/test.txt')"
   ]
  },
  {
   "cell_type": "markdown",
   "metadata": {},
   "source": [
    "You should always understand what kind of data you deal with. For this purpose, you can print the data running the following cell:"
   ]
  },
  {
   "cell_type": "code",
   "execution_count": 8,
   "metadata": {},
   "outputs": [
    {
     "name": "stdout",
     "output_type": "stream",
     "text": [
      "RT\tO\n",
      "<USR>\tO\n",
      ":\tO\n",
      "Online\tO\n",
      "ticket\tO\n",
      "sales\tO\n",
      "for\tO\n",
      "Ghostland\tB-musicartist\n",
      "Observatory\tI-musicartist\n",
      "extended\tO\n",
      "until\tO\n",
      "6\tO\n",
      "PM\tO\n",
      "EST\tO\n",
      "due\tO\n",
      "to\tO\n",
      "high\tO\n",
      "demand\tO\n",
      ".\tO\n",
      "Get\tO\n",
      "them\tO\n",
      "before\tO\n",
      "they\tO\n",
      "sell\tO\n",
      "out\tO\n",
      "...\tO\n",
      "\n",
      "Apple\tB-product\n",
      "MacBook\tI-product\n",
      "Pro\tI-product\n",
      "A1278\tI-product\n",
      "13.3\tI-product\n",
      "\"\tI-product\n",
      "Laptop\tI-product\n",
      "-\tI-product\n",
      "MD101LL/A\tI-product\n",
      "(\tO\n",
      "June\tO\n",
      ",\tO\n",
      "2012\tO\n",
      ")\tO\n",
      "-\tO\n",
      "Full\tO\n",
      "read\tO\n",
      "by\tO\n",
      "eBay\tB-company\n",
      "<URL>\tO\n",
      "<URL>\tO\n",
      "\n",
      "Happy\tO\n",
      "Birthday\tO\n",
      "<USR>\tO\n",
      "!\tO\n",
      "May\tO\n",
      "Allah\tB-person\n",
      "s.w.t\tO\n",
      "bless\tO\n",
      "you\tO\n",
      "with\tO\n",
      "goodness\tO\n",
      "and\tO\n",
      "happiness\tO\n",
      ".\tO\n",
      "\n"
     ]
    }
   ],
   "source": [
    "for i in range(3):\n",
    "    for token, tag in zip(train_tokens[i], train_tags[i]):\n",
    "        print('%s\\t%s' % (token, tag))\n",
    "    print()"
   ]
  },
  {
   "cell_type": "markdown",
   "metadata": {},
   "source": [
    "### Prepare dictionaries\n",
    "\n",
    "To train a neural network, we will use two mappings: \n",
    "- {token}$\\to${token id}: address the row in embeddings matrix for the current token;\n",
    "- {tag}$\\to${tag id}: one-hot ground truth probability distribution vectors for computing the loss at the output of the network.\n",
    "\n",
    "Now you need to implement the function *build_dict* which will return {token or tag}$\\to${index} and vice versa. "
   ]
  },
  {
   "cell_type": "code",
   "execution_count": 9,
   "metadata": {},
   "outputs": [],
   "source": [
    "from collections import defaultdict"
   ]
  },
  {
   "cell_type": "code",
   "execution_count": 10,
   "metadata": {},
   "outputs": [],
   "source": [
    "def build_dict(tokens_or_tags, special_tokens):\n",
    "    \"\"\"\n",
    "        tokens_or_tags: a list of lists of tokens or tags\n",
    "        special_tokens: some special tokens\n",
    "    \"\"\"\n",
    "    # Create a dictionary with default value 0\n",
    "    token_to_index = defaultdict(lambda: 0)\n",
    "    index_to_token = list()\n",
    "    index_to_token_set = set()\n",
    "    \n",
    "    \n",
    "    # Create mappings from tokens (or tags) to indices and vice versa.\n",
    "    # At first, add special tokens (or tags) to the dictionaries.\n",
    "    # The first special token must have index 0.\n",
    "    \n",
    "    # Mapping tok2idx should contain each token or tag only once. \n",
    "    # To do so, you should:\n",
    "    # 1. extract unique tokens/tags from the tokens_or_tags variable, which is not\n",
    "    #    occur in special_tokens (because they could have non-empty intersection)\n",
    "    # 2. index them (for example, you can add them into the list idx2tok\n",
    "    # 3. for each token/tag save the index into tok2idx).\n",
    "    \n",
    "    for index, special_token in enumerate(special_tokens):\n",
    "        index_to_token_set.add(special_token)\n",
    "        index_to_token.append(special_token)\n",
    "        \n",
    "    for sentence_index, token_or_tag in enumerate(tokens_or_tags):\n",
    "        for word_index, word_or_tag in enumerate(token_or_tag, start=len(special_tokens)):\n",
    "            if word_or_tag not in index_to_token_set:\n",
    "                index_to_token_set.add(word_or_tag)\n",
    "                index_to_token.append(word_or_tag)\n",
    "    token_to_index  = {token : index for index, token in enumerate(index_to_token)}\n",
    "    return token_to_index, index_to_token"
   ]
  },
  {
   "cell_type": "code",
   "execution_count": 11,
   "metadata": {},
   "outputs": [],
   "source": [
    "actual_token_to_index, actual_index_to_token = build_dict([['espoir', 'is', 'working ', 'on', 'an', 'nlp', 'exercice']] , ['<UNK>', '<PAD>'])\n",
    "\n",
    "expected_token_to_index, expected_index_to_token  = {'<UNK>': 0, \n",
    "                                                     '<PAD>': 1, \n",
    "                                                     'espoir': 2, \n",
    "                                                     'is': 3, \n",
    "                                                     'working ': 4, \n",
    "                                                     'on': 5, \n",
    "                                                     'an': 6, \n",
    "                                                     'nlp': 7, \n",
    "                                                     'exercice': 8},['<UNK>', '<PAD>', 'espoir', 'is', 'working ', 'on', 'an', 'nlp', 'exercice']\n",
    "assert actual_index_to_token == expected_index_to_token\n",
    "assert actual_token_to_index == expected_token_to_index"
   ]
  },
  {
   "cell_type": "markdown",
   "metadata": {},
   "source": [
    "After implementing the function *build_dict* you can make dictionaries for tokens and tags. Special tokens in our case will be:\n",
    " - `<UNK>` token for out of vocabulary tokens;\n",
    " - `<PAD>` token for padding sentence to the same length when we create batches of sentences."
   ]
  },
  {
   "cell_type": "code",
   "execution_count": 12,
   "metadata": {},
   "outputs": [],
   "source": [
    "special_tokens = ['<UNK>', '<PAD>']\n",
    "special_tags = ['O']\n",
    "\n",
    "# Create dictionaries \n",
    "token_to_index, index_to_token = build_dict(train_tokens + validation_tokens, special_tokens)\n",
    "tag_to_index, index_to_tag = build_dict(train_tags, special_tags)"
   ]
  },
  {
   "cell_type": "code",
   "execution_count": 13,
   "metadata": {},
   "outputs": [],
   "source": [
    "assert token_to_index['<UNK>'] == 0 \n",
    "assert index_to_token[0] == '<UNK>'\n",
    "assert list(tag_to_index.keys()) == list(index_to_tag)\n",
    "for index in tag_to_index.values():\n",
    "    assert index in range(0, len(index_to_tag))"
   ]
  },
  {
   "cell_type": "code",
   "execution_count": 14,
   "metadata": {},
   "outputs": [],
   "source": [
    "n_tags = len(tag_to_index)"
   ]
  },
  {
   "cell_type": "code",
   "execution_count": 15,
   "metadata": {},
   "outputs": [],
   "source": [
    "def words_to_indexes(tokens_list):\n",
    "    return [token_to_index.get(word) for word in tokens_list]\n",
    "\n",
    "def tags_to_indexes(tags_list):\n",
    "    return [tag_to_index.get(tag) for tag in tags_list]\n",
    "\n",
    "def indexes_to_tokens(indexes):\n",
    "    return [index_to_token[index] for index in indexes]\n",
    "\n",
    "def indexes_to_tags(indexes):\n",
    "    return [index_to_tag[index] for index in indexes]"
   ]
  },
  {
   "cell_type": "markdown",
   "metadata": {},
   "source": [
    "### NER Model "
   ]
  },
  {
   "cell_type": "markdown",
   "metadata": {},
   "source": [
    "Here I wil try another approach different from what was given in the assignement notebook. "
   ]
  },
  {
   "cell_type": "code",
   "execution_count": 16,
   "metadata": {},
   "outputs": [
    {
     "name": "stderr",
     "output_type": "stream",
     "text": [
      "/Users/es.py/Projects/Personal/nlp_course_coursera_russia_uni/.venv/lib/python3.6/site-packages/pandas/compat/__init__.py:120: UserWarning: Could not import the lzma module. Your installed Python is incomplete. Attempting to use lzma compression will result in a RuntimeError.\n",
      "  warnings.warn(msg)\n"
     ]
    }
   ],
   "source": [
    "from sklearn.model_selection import train_test_split\n",
    "from keras_preprocessing.sequence import pad_sequences\n",
    "from keras.utils import to_categorical\n",
    "from sklearn.preprocessing import OneHotEncoder\n",
    "import numpy as np"
   ]
  },
  {
   "cell_type": "code",
   "execution_count": 17,
   "metadata": {},
   "outputs": [],
   "source": [
    "def one_hot_encode(X, n_tags=n_tags):\n",
    "    \"\"\"\n",
    "    take a list of array and return a one hotted version of it \n",
    "    \"\"\"\n",
    "    \n",
    "    one_hot_sentence = list()\n",
    "    for index, sentence in enumerate(np.rollaxis(X, 0)):\n",
    "        indexes = tags_to_indexes(sentence)\n",
    "        encoded_indexes = to_categorical(indexes, num_classes=n_tags)\n",
    "        one_hot_sentence.append(encoded_indexes)\n",
    "    return np.array(one_hot_sentence)"
   ]
  },
  {
   "cell_type": "code",
   "execution_count": 18,
   "metadata": {},
   "outputs": [],
   "source": [
    "def get_pad_train_val(train_tokens, validation_tokens, train_tags, validation_tags):\n",
    "    \"\"\"\n",
    "    add pad to sequence to make sure everything have the same lengts \n",
    "    \"\"\"\n",
    "    all_tokens = train_tokens + validation_tokens\n",
    "    all_tags = train_tags + validation_tags\n",
    "    all_tokens_indexes = list(map(words_to_indexes, all_tokens))\n",
    "    max_length = max([len(sentence) for sentence in all_tokens])\n",
    "    pad_tokens = pad_sequences(all_tokens_indexes, \n",
    "                               maxlen=max_length, \n",
    "                               dtype=object, \n",
    "                               padding='post', \n",
    "                               value=token_to_index.get('<PAD>'))\n",
    "    pad_tokens = pad_tokens.astype(np.int64)\n",
    "    pad_tags = pad_sequences(all_tags, \n",
    "                             maxlen=max_length, \n",
    "                             dtype=object, \n",
    "                             padding='post', \n",
    "                             value=index_to_tag[0])\n",
    "    one_hotted_tags = one_hot_encode(pad_tags)\n",
    "    one_hotted_tags = one_hotted_tags.astype(np.int64)\n",
    "    train_tokens, val_tokens, train_tags, val_tags = train_test_split(pad_tokens,\n",
    "                                                                      one_hotted_tags,\n",
    "                                                                      test_size=0.25,\n",
    "                                                                      train_size=0.75,\n",
    "                                                                      random_state=2020)\n",
    "    return train_tokens, val_tokens, train_tags, val_tags"
   ]
  },
  {
   "cell_type": "code",
   "execution_count": 19,
   "metadata": {},
   "outputs": [],
   "source": [
    "train_tokens, val_tokens, train_tags, val_tags = get_pad_train_val(train_tokens, validation_tokens, train_tags, validation_tags)"
   ]
  },
  {
   "cell_type": "code",
   "execution_count": 20,
   "metadata": {},
   "outputs": [
    {
     "data": {
      "text/plain": [
       "(41, 21)"
      ]
     },
     "execution_count": 20,
     "metadata": {},
     "output_type": "execute_result"
    }
   ],
   "source": [
    "train_tags[4].shape"
   ]
  },
  {
   "cell_type": "code",
   "execution_count": 22,
   "metadata": {},
   "outputs": [
    {
     "data": {
      "text/plain": [
       "dtype('int64')"
      ]
     },
     "execution_count": 22,
     "metadata": {},
     "output_type": "execute_result"
    }
   ],
   "source": [
    "train_tokens.dtype"
   ]
  },
  {
   "cell_type": "code",
   "execution_count": 23,
   "metadata": {},
   "outputs": [],
   "source": [
    "import numpy as np\n",
    "import tensorflow as tf\n",
    "from tensorflow.keras import Sequential, Model, Input\n",
    "from tensorflow.keras.layers import LSTM, Embedding, Dense, TimeDistributed, Dropout, Bidirectional\n",
    "from tensorflow.keras.utils import plot_model"
   ]
  },
  {
   "cell_type": "code",
   "execution_count": 24,
   "metadata": {},
   "outputs": [],
   "source": [
    "tf.random.set_seed(2)"
   ]
  },
  {
   "cell_type": "markdown",
   "metadata": {},
   "source": [
    "https://towardsdatascience.com/named-entity-recognition-ner-using-keras-bidirectional-lstm-28cd3f301f54"
   ]
  },
  {
   "cell_type": "code",
   "execution_count": 25,
   "metadata": {},
   "outputs": [
    {
     "data": {
      "text/plain": [
       "21"
      ]
     },
     "execution_count": 25,
     "metadata": {},
     "output_type": "execute_result"
    }
   ],
   "source": [
    "len(tag_to_index)"
   ]
  },
  {
   "cell_type": "code",
   "execution_count": 26,
   "metadata": {},
   "outputs": [],
   "source": [
    "vocabulary_size  = len(index_to_token)\n",
    "input_length = len(train_tags[0])\n",
    "n_tags  = len(tag_to_index)\n",
    "output_dim = 64 # embedidng since"
   ]
  },
  {
   "cell_type": "code",
   "execution_count": 27,
   "metadata": {},
   "outputs": [],
   "source": [
    "from keras import backend as K"
   ]
  },
  {
   "cell_type": "code",
   "execution_count": 39,
   "metadata": {},
   "outputs": [],
   "source": [
    "class NERRNNModel(Model):\n",
    "    def __init__(self, **kwargs):\n",
    "        super(NERRNNModel, self).__init__(**kwargs)\n",
    "        self.embedding = Embedding(input_dim=vocabulary_size,\n",
    "                                   output_dim=output_dim,\n",
    "                                   input_length=input_length)\n",
    "        first_lstm = LSTM(units=output_dim,\n",
    "                          return_sequences=True,\n",
    "                          dropout=0.2, \n",
    "                          recurrent_dropout=0.2)\n",
    "        self.bidirectional = Bidirectional(first_lstm, merge_mode='concat')\n",
    "        self.lstm = LSTM(units=output_dim, return_sequences=True, dropout=0.5, recurrent_dropout=.5)\n",
    "        self.time_distributed  = TimeDistributed(Dense(n_tags, activation='softmax'))\n",
    "        \n",
    "        \n",
    "    def call(self, inputs):\n",
    "        x = self.embedding(inputs)\n",
    "        x = self.bidirectional(x)\n",
    "        x = self.lstm(x)\n",
    "        output = self.time_distributed(x)\n",
    "        return output\n",
    "        "
   ]
  },
  {
   "cell_type": "code",
   "execution_count": 40,
   "metadata": {},
   "outputs": [],
   "source": [
    "my_ner_model = NERRNNModel(name='my_rnn_model')"
   ]
  },
  {
   "cell_type": "code",
   "execution_count": 41,
   "metadata": {},
   "outputs": [],
   "source": [
    "from keras.metrics import Precision, Recall"
   ]
  },
  {
   "cell_type": "code",
   "execution_count": 42,
   "metadata": {},
   "outputs": [],
   "source": [
    "my_ner_model.compile(loss='categorical_crossentropy',\n",
    "                     optimizer='adam', \n",
    "                     metrics=['accuracy', Precision(), Recall()])"
   ]
  },
  {
   "cell_type": "code",
   "execution_count": 43,
   "metadata": {},
   "outputs": [
    {
     "data": {
      "text/plain": [
       "(4889, 41)"
      ]
     },
     "execution_count": 43,
     "metadata": {},
     "output_type": "execute_result"
    }
   ],
   "source": [
    "train_tokens.shape\n"
   ]
  },
  {
   "cell_type": "code",
   "execution_count": 44,
   "metadata": {},
   "outputs": [
    {
     "name": "stdout",
     "output_type": "stream",
     "text": [
      "Epoch 1/30\n",
      "123/123 [==============================] - 14s 117ms/step - loss: 0.4642 - accuracy: 0.9600 - precision_2: 0.9689 - recall_2: 0.8646 - val_loss: 0.2091 - val_accuracy: 0.9681 - val_precision_2: 0.9681 - val_recall_2: 0.9681\n",
      "Epoch 2/30\n",
      "123/123 [==============================] - 14s 116ms/step - loss: 0.2006 - accuracy: 0.9684 - precision_2: 0.9684 - recall_2: 0.9684 - val_loss: 0.1957 - val_accuracy: 0.9681 - val_precision_2: 0.9681 - val_recall_2: 0.9681\n",
      "Epoch 3/30\n",
      "123/123 [==============================] - 16s 130ms/step - loss: 0.1772 - accuracy: 0.9684 - precision_2: 0.9684 - recall_2: 0.9684 - val_loss: 0.1796 - val_accuracy: 0.9681 - val_precision_2: 0.9681 - val_recall_2: 0.9681\n",
      "Epoch 4/30\n",
      "123/123 [==============================] - 17s 135ms/step - loss: 0.1457 - accuracy: 0.9684 - precision_2: 0.9766 - recall_2: 0.9656 - val_loss: 0.1658 - val_accuracy: 0.9683 - val_precision_2: 0.9789 - val_recall_2: 0.9629\n",
      "Epoch 5/30\n",
      "123/123 [==============================] - 17s 140ms/step - loss: 0.1178 - accuracy: 0.9691 - precision_2: 0.9920 - recall_2: 0.9637 - val_loss: 0.1743 - val_accuracy: 0.9682 - val_precision_2: 0.9806 - val_recall_2: 0.9629\n",
      "Epoch 6/30\n",
      "123/123 [==============================] - 17s 142ms/step - loss: 0.1040 - accuracy: 0.9708 - precision_2: 0.9959 - recall_2: 0.9649 - val_loss: 0.1820 - val_accuracy: 0.9682 - val_precision_2: 0.9810 - val_recall_2: 0.9627\n",
      "Epoch 7/30\n",
      "123/123 [==============================] - 16s 127ms/step - loss: 0.0961 - accuracy: 0.9719 - precision_2: 0.9971 - recall_2: 0.9657 - val_loss: 0.1677 - val_accuracy: 0.9680 - val_precision_2: 0.9828 - val_recall_2: 0.9590\n",
      "Epoch 8/30\n",
      "123/123 [==============================] - 18s 145ms/step - loss: 0.0910 - accuracy: 0.9728 - precision_2: 0.9976 - recall_2: 0.9659 - val_loss: 0.1764 - val_accuracy: 0.9675 - val_precision_2: 0.9825 - val_recall_2: 0.9607\n",
      "Epoch 9/30\n",
      "123/123 [==============================] - 16s 129ms/step - loss: 0.0864 - accuracy: 0.9732 - precision_2: 0.9979 - recall_2: 0.9663 - val_loss: 0.1821 - val_accuracy: 0.9675 - val_precision_2: 0.9829 - val_recall_2: 0.9603\n",
      "Epoch 10/30\n",
      "123/123 [==============================] - 16s 131ms/step - loss: 0.0830 - accuracy: 0.9743 - precision_2: 0.9983 - recall_2: 0.9664 - val_loss: 0.1898 - val_accuracy: 0.9675 - val_precision_2: 0.9826 - val_recall_2: 0.9606\n",
      "Epoch 11/30\n",
      "123/123 [==============================] - 15s 126ms/step - loss: 0.0797 - accuracy: 0.9746 - precision_2: 0.9986 - recall_2: 0.9666 - val_loss: 0.2043 - val_accuracy: 0.9675 - val_precision_2: 0.9816 - val_recall_2: 0.9612\n",
      "Epoch 12/30\n",
      "123/123 [==============================] - 16s 130ms/step - loss: 0.0777 - accuracy: 0.9755 - precision_2: 0.9986 - recall_2: 0.9667 - val_loss: 0.1803 - val_accuracy: 0.9650 - val_precision_2: 0.9849 - val_recall_2: 0.9549\n",
      "Epoch 13/30\n",
      "123/123 [==============================] - 15s 123ms/step - loss: 0.0758 - accuracy: 0.9757 - precision_2: 0.9987 - recall_2: 0.9669 - val_loss: 0.1935 - val_accuracy: 0.9666 - val_precision_2: 0.9833 - val_recall_2: 0.9601\n",
      "Epoch 14/30\n",
      "123/123 [==============================] - 17s 136ms/step - loss: 0.0732 - accuracy: 0.9765 - precision_2: 0.9988 - recall_2: 0.9673 - val_loss: 0.1875 - val_accuracy: 0.9653 - val_precision_2: 0.9843 - val_recall_2: 0.9579\n",
      "Epoch 15/30\n",
      "123/123 [==============================] - 17s 136ms/step - loss: 0.0716 - accuracy: 0.9768 - precision_2: 0.9986 - recall_2: 0.9676 - val_loss: 0.1935 - val_accuracy: 0.9660 - val_precision_2: 0.9839 - val_recall_2: 0.9579\n",
      "Epoch 16/30\n",
      "123/123 [==============================] - 17s 138ms/step - loss: 0.0699 - accuracy: 0.9776 - precision_2: 0.9986 - recall_2: 0.9681 - val_loss: 0.1927 - val_accuracy: 0.9623 - val_precision_2: 0.9824 - val_recall_2: 0.9536\n",
      "Epoch 17/30\n",
      "123/123 [==============================] - 16s 134ms/step - loss: 0.0671 - accuracy: 0.9788 - precision_2: 0.9984 - recall_2: 0.9686 - val_loss: 0.2037 - val_accuracy: 0.9665 - val_precision_2: 0.9826 - val_recall_2: 0.9598\n",
      "Epoch 18/30\n",
      "123/123 [==============================] - 17s 135ms/step - loss: 0.0655 - accuracy: 0.9796 - precision_2: 0.9982 - recall_2: 0.9692 - val_loss: 0.2040 - val_accuracy: 0.9625 - val_precision_2: 0.9815 - val_recall_2: 0.9546\n",
      "Epoch 19/30\n",
      "123/123 [==============================] - 16s 129ms/step - loss: 0.0624 - accuracy: 0.9806 - precision_2: 0.9980 - recall_2: 0.9698 - val_loss: 0.2044 - val_accuracy: 0.9626 - val_precision_2: 0.9813 - val_recall_2: 0.9548\n",
      "Epoch 20/30\n",
      "123/123 [==============================] - 16s 127ms/step - loss: 0.0593 - accuracy: 0.9818 - precision_2: 0.9981 - recall_2: 0.9705 - val_loss: 0.2131 - val_accuracy: 0.9651 - val_precision_2: 0.9792 - val_recall_2: 0.9585\n",
      "Epoch 21/30\n",
      "123/123 [==============================] - 16s 127ms/step - loss: 0.0553 - accuracy: 0.9834 - precision_2: 0.9978 - recall_2: 0.9722 - val_loss: 0.2112 - val_accuracy: 0.9633 - val_precision_2: 0.9795 - val_recall_2: 0.9559\n",
      "Epoch 22/30\n",
      "123/123 [==============================] - 17s 137ms/step - loss: 0.0523 - accuracy: 0.9846 - precision_2: 0.9975 - recall_2: 0.9734 - val_loss: 0.2146 - val_accuracy: 0.9640 - val_precision_2: 0.9787 - val_recall_2: 0.9565\n",
      "Epoch 23/30\n",
      "123/123 [==============================] - 16s 132ms/step - loss: 0.0483 - accuracy: 0.9861 - precision_2: 0.9971 - recall_2: 0.9761 - val_loss: 0.2196 - val_accuracy: 0.9654 - val_precision_2: 0.9777 - val_recall_2: 0.9597\n",
      "Epoch 24/30\n",
      "123/123 [==============================] - 17s 139ms/step - loss: 0.0431 - accuracy: 0.9878 - precision_2: 0.9970 - recall_2: 0.9799 - val_loss: 0.2213 - val_accuracy: 0.9629 - val_precision_2: 0.9745 - val_recall_2: 0.9572\n",
      "Epoch 25/30\n",
      "123/123 [==============================] - 17s 136ms/step - loss: 0.0389 - accuracy: 0.9889 - precision_2: 0.9966 - recall_2: 0.9827 - val_loss: 0.2254 - val_accuracy: 0.9650 - val_precision_2: 0.9748 - val_recall_2: 0.9608\n",
      "Epoch 26/30\n",
      "123/123 [==============================] - 18s 143ms/step - loss: 0.0347 - accuracy: 0.9902 - precision_2: 0.9969 - recall_2: 0.9855 - val_loss: 0.2241 - val_accuracy: 0.9599 - val_precision_2: 0.9729 - val_recall_2: 0.9548\n",
      "Epoch 27/30\n",
      "123/123 [==============================] - 16s 134ms/step - loss: 0.0312 - accuracy: 0.9911 - precision_2: 0.9968 - recall_2: 0.9871 - val_loss: 0.2291 - val_accuracy: 0.9620 - val_precision_2: 0.9722 - val_recall_2: 0.9578\n",
      "Epoch 28/30\n",
      "123/123 [==============================] - 17s 137ms/step - loss: 0.0286 - accuracy: 0.9918 - precision_2: 0.9970 - recall_2: 0.9882 - val_loss: 0.2331 - val_accuracy: 0.9643 - val_precision_2: 0.9738 - val_recall_2: 0.9605\n",
      "Epoch 29/30\n",
      "123/123 [==============================] - 17s 140ms/step - loss: 0.0261 - accuracy: 0.9926 - precision_2: 0.9968 - recall_2: 0.9896 - val_loss: 0.2364 - val_accuracy: 0.9605 - val_precision_2: 0.9702 - val_recall_2: 0.9567\n",
      "Epoch 30/30\n",
      "123/123 [==============================] - 21s 174ms/step - loss: 0.0233 - accuracy: 0.9933 - precision_2: 0.9972 - recall_2: 0.9906 - val_loss: 0.2397 - val_accuracy: 0.9621 - val_precision_2: 0.9710 - val_recall_2: 0.9588\n"
     ]
    }
   ],
   "source": [
    "history = my_ner_model.fit(train_tokens, \n",
    "                           train_tags,\n",
    "                           batch_size=32,\n",
    "                           epochs=30,\n",
    "                           validation_split=0.2)"
   ]
  },
  {
   "cell_type": "markdown",
   "metadata": {},
   "source": [
    "Let us visuallise the results of our model training"
   ]
  },
  {
   "cell_type": "code",
   "execution_count": 49,
   "metadata": {},
   "outputs": [],
   "source": [
    "from tensorflow.keras.utils import plot_model\n",
    "import matplotlib.pyplot as plt"
   ]
  },
  {
   "cell_type": "code",
   "execution_count": 66,
   "metadata": {},
   "outputs": [],
   "source": [
    "def plot_history(history):\n",
    "    accuracy = history.history.get('accuracy')\n",
    "    val_accuracy  = history.history.get('val_accuracy')\n",
    "    loss = history.history.get('loss')\n",
    "    val_loss = history.history.get('val_loss')\n",
    "    precision = history.history.get('precision_2')\n",
    "    val_precision = history.history.get('val_precision_2')\n",
    "    recall = history.history.get('recall_2')\n",
    "    val_recall = history.history.get('val_recall_2')\n",
    "    x = range(1, len(accuracy) + 1)\n",
    "    fig, (ax1, ax2, ax3, ax4) = plt.subplots(nrows=1, ncols=4, figsize=(16, 4))\n",
    "    ax1.plot(x, accuracy, color='blue', label='accuracy')\n",
    "    ax1.plot(x, val_accuracy, color='green', label='val_accuracy')\n",
    "    ax1.set_title(\"Model accuracy overtime\")\n",
    "    ax2.plot(x, loss, color='blue', label='loss')\n",
    "    ax2.plot(x, val_loss, color='green', label='val_loss')\n",
    "    ax2.set_title(\"Model loss over time\")\n",
    "    ax3.plot(x, recall, color='blue', label='recall')\n",
    "    ax3.plot(x, val_recall, color='green', label='val_recall')\n",
    "    ax3.set_title(\"Recall overtime\")\n",
    "    ax4.plot(x,  val_precision, color='blue', label='val_precision')\n",
    "    ax4.plot(x, precision, color='green', label='precision')\n",
    "    ax4.set_title('precision over time')\n",
    "    plt.legend()\n",
    "    "
   ]
  },
  {
   "cell_type": "code",
   "execution_count": 67,
   "metadata": {},
   "outputs": [
    {
     "data": {
      "image/png": "[encoded data removed]",
      "text/plain": [
       "<Figure size 1152x288 with 4 Axes>"
      ]
     },
     "metadata": {
      "needs_background": "light"
     },
     "output_type": "display_data"
    }
   ],
   "source": [
    "plot_history(history)"
   ]
  },
  {
   "cell_type": "code",
   "execution_count": null,
   "metadata": {},
   "outputs": [],
   "source": []
  }
 ],
 "metadata": {
  "kernelspec": {
   "display_name": "nlp-course-venv-v2",
   "language": "python",
   "name": "nlp-course-venv-v2"
  },
  "language_info": {
   "codemirror_mode": {
    "name": "ipython",
    "version": 3
   },
   "file_extension": ".py",
   "mimetype": "text/x-python",
   "name": "python",
   "nbconvert_exporter": "python",
   "pygments_lexer": "ipython3",
   "version": "3.6.5"
  }
 },
 "nbformat": 4,
 "nbformat_minor": 4
}
